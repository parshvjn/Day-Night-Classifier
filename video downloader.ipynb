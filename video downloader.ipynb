{
 "cells": [
  {
   "cell_type": "code",
   "execution_count": 1,
   "id": "bff27551",
   "metadata": {},
   "outputs": [],
   "source": [
    "storage_path = r\"/Users/parshv/files/googledrive/CodingForParshv/python-class/Day Night Classifier/live feed Day Night Classifier\""
   ]
  },
  {
   "cell_type": "code",
   "execution_count": 2,
   "id": "2ece48a3",
   "metadata": {},
   "outputs": [],
   "source": [
    "import subprocess\n",
    "\n",
    "# URL of the YouTube video you want to download\n",
    "video_urls = ['https://www.youtube.com/watch?v=x1Os8NcSrbI&ab_channel=BobClark']"
   ]
  },
  {
   "cell_type": "code",
   "execution_count": 3,
   "id": "29654237",
   "metadata": {},
   "outputs": [
    {
     "name": "stdout",
     "output_type": "stream",
     "text": [
      "Failed to download video\n",
      "video was downloaded successfully\n"
     ]
    }
   ],
   "source": [
    "from pytube import YouTube\n",
    "def download(video_url):\n",
    "    video = YouTube(video_url)\n",
    "    video = video.streams.get_highest_resolution()\n",
    "\n",
    "    try:\n",
    "        video.download(storage_path)\n",
    "    except:\n",
    "        print(\"Failed to download video\")\n",
    "\n",
    "    print(\"video was downloaded successfully\")\n",
    "    \n",
    "    \n",
    "for i in video_urls:\n",
    "    download(i)"
   ]
  },
  {
   "cell_type": "raw",
   "id": "260602dd",
   "metadata": {},
   "source": [
    "from pytube import YouTube \n",
    "\n",
    "#where to save \n",
    "SAVE_PATH = storage_path #to_do \n",
    "\n",
    "#link of the video to be downloaded \n",
    "link= video_urls\n",
    "\n",
    "for i in link: \n",
    "\ttry: \n",
    "\t\t\n",
    "\t\t# object creation using YouTube \n",
    "\t\t# which was imported in the beginning \n",
    "\t\tyt = YouTube(i) \n",
    "\texcept: \n",
    "\t\t\n",
    "\t\t#to handle exception \n",
    "\t\tprint(\"Connection Error\") \n",
    "\t\n",
    "\t#filters out all the files with \"mp4\" extension \n",
    "\tmp4files = yt.filter('mp4') \n",
    "\n",
    "\t# get the video with the extension and \n",
    "\t# resolution passed in the get() function \n",
    "\td_video = yt.get(mp4files[-1].extension,mp4files[-1].resolution) \n",
    "\ttry: \n",
    "\t\t# downloading the video \n",
    "\t\td_video.download(SAVE_PATH) \n",
    "\texcept: \n",
    "\t\tprint(\"Some Error!\") \n",
    "print('Task Completed!') \n"
   ]
  },
  {
   "cell_type": "raw",
   "id": "6dc0eaa6",
   "metadata": {},
   "source": [
    "!pip3 install pytube"
   ]
  },
  {
   "cell_type": "code",
   "execution_count": null,
   "id": "a74b212c",
   "metadata": {},
   "outputs": [],
   "source": []
  }
 ],
 "metadata": {
  "kernelspec": {
   "display_name": "Python 3 (ipykernel)",
   "language": "python",
   "name": "python3"
  },
  "language_info": {
   "codemirror_mode": {
    "name": "ipython",
    "version": 3
   },
   "file_extension": ".py",
   "mimetype": "text/x-python",
   "name": "python",
   "nbconvert_exporter": "python",
   "pygments_lexer": "ipython3",
   "version": "3.10.2"
  }
 },
 "nbformat": 4,
 "nbformat_minor": 5
}
